{
 "cells": [
  {
   "cell_type": "markdown",
   "metadata": {
    "id": "QshK8s21WBrf"
   },
   "source": [
    "# Homework09\n",
    "\n",
    "Exercises to practice dimensionality reduction with PCA\n",
    "\n",
    "## Goals\n",
    "\n",
    "- Add unsupervised pre-processing to our ML flow: encode -> normalize -> pre-process -> train -> evaluate\n",
    "- Build an intuition for PCA and when/how to use it\n",
    "- Understand the benefits of dimensionality reduction"
   ]
  },
  {
   "cell_type": "markdown",
   "metadata": {
    "id": "7Hf8SXUwWOho"
   },
   "source": [
    "### Setup\n",
    "\n",
    "Run the following 2 cells to import all necessary libraries and helpers for this homework."
   ]
  },
  {
   "cell_type": "code",
   "execution_count": null,
   "metadata": {},
   "outputs": [],
   "source": [
    "!wget -q https://github.com/PSAM-5020-2025S-A/5020-utils/raw/main/src/data_utils.py\n",
    "!wget -q https://github.com/PSAM-5020-2025S-A/5020-utils/raw/main/src/image_utils.py\n",
    "!wget -q https://github.com/PSAM-5020-2025S-A/Homework07/raw/main/Homework07_utils.pyc\n",
    "\n",
    "!wget -qO- https://github.com/PSAM-5020-2025S-A/5020-utils/releases/latest/download/0801-500.tar.gz | tar xz"
   ]
  },
  {
   "cell_type": "code",
   "execution_count": null,
   "metadata": {},
   "outputs": [],
   "source": [
    "import PIL.Image as PImage\n",
    "\n",
    "from os import listdir, path\n",
    "\n",
    "from data_utils import PCA, RandomForestClassifier\n",
    "\n",
    "from image_utils import get_pixels, make_image\n",
    "\n",
    "from Homework07_utils import CamUtils"
   ]
  },
  {
   "cell_type": "markdown",
   "metadata": {},
   "source": [
    "## PCA and Classification\n",
    "\n",
    "Let's practice doing some more image classification with `PCA` and analyzing the results.\n",
    "\n",
    "The dataset is the same one we used in `Homework07`. It has images from $25$ different security cameras, and our task is to separate them by camera. Some of the cameras move, some of them don't, and there are more than $1000$ images, so there's no way we want to do this by hand.\n",
    "\n",
    "Let's start by loading the training images into a list of pixels, like we did with the `faces` dataset in class.\n",
    "\n",
    "### Loading Data\n",
    "\n",
    "If we look at the images in `./data/image/0801-500/train/`, we'll notice that they are named and organized in a slightly different way. They're all in the same directory and the first part of their filename specifies which camera they came from. Even though those `ids` are numbers, they're not sequential, so we'll use some helper functions to extract a unique `label` from their filenames.\n",
    "\n",
    "This is exactly what the `OrdinalEncoder` class does, but since we only have to encode this one column, we'll do it by hand while we read the files in."
   ]
  },
  {
   "cell_type": "code",
   "execution_count": null,
   "metadata": {},
   "outputs": [],
   "source": [
    "# this creates a list of all the files in a given directory, that end in .jpg\n",
    "train_files = [f for f in listdir(\"./data/image/0801-500/train\") if f.endswith(\".jpg\")]"
   ]
  },
  {
   "cell_type": "code",
   "execution_count": null,
   "metadata": {
    "tags": [
     "work_cell"
    ]
   },
   "outputs": [],
   "source": [
    "# TODO: check and see what is inside the list here\n",
    "print(train_files[0])\n",
    "print(len(train_files))"
   ]
  },
  {
   "cell_type": "markdown",
   "metadata": {},
   "source": [
    "Now we'll read the image pixels and extract their labels. `CamUtils.get_label()` is the helper function we'll use to \"encode\" and return a label id based on the filename."
   ]
  },
  {
   "cell_type": "code",
   "execution_count": null,
   "metadata": {},
   "outputs": [],
   "source": [
    "pixel_data = []\n",
    "label_data = []\n",
    "\n",
    "for fname in train_files:\n",
    "  label = CamUtils.get_label(fname)\n",
    "  img = PImage.open(path.join(\"./data/image/0801-500/train\", fname))\n",
    "  pixel_data.append(get_pixels(img))\n",
    "  label_data.append(label)"
   ]
  },
  {
   "cell_type": "code",
   "execution_count": null,
   "metadata": {
    "tags": [
     "work_cell"
    ]
   },
   "outputs": [],
   "source": [
    "# TODO: check if labels got extracted correctly by looking at \n",
    "#       the first few items of the label list and the filename list\n",
    "print(label_data[:10])\n",
    "print(train_files[:10])"
   ]
  },
  {
   "cell_type": "markdown",
   "metadata": {},
   "source": [
    "Like in `Homework07`, the labels and the filenames won't match exactly since labels start at $0$ and the filenames start at $01$ and skip some numbers.\n",
    "\n",
    "We can open some images from pixels, just to make sure we loaded them correctly:"
   ]
  },
  {
   "cell_type": "code",
   "execution_count": null,
   "metadata": {},
   "outputs": [],
   "source": [
    "display(make_image(pixel_data[0], width=256))\n",
    "display(make_image(pixel_data[10], width=256))"
   ]
  },
  {
   "cell_type": "markdown",
   "metadata": {},
   "source": [
    "### PCA\n",
    "\n",
    "Create a `DataFrame` called `cam_pca_df` by running `PCA` on the list of pixel data, just like we did in class, and then append a `label` column to it, just like we did in Homewokr07 with: `train_df[\"label\"] = label_data`.\n",
    "\n",
    "You can change how many components to extract from the images later, but for this first run just use $10$ components so we can compare classification with $10$ `PCA` components to the classification with $10$ random features from `Homework07`.  Make sure to confirm how much of the `variance` is preserved by this transformation."
   ]
  },
  {
   "cell_type": "code",
   "execution_count": null,
   "metadata": {
    "tags": [
     "work_cell"
    ]
   },
   "outputs": [],
   "source": [
    "\n",
    "# import matplotlib.pyplot as plt\n",
    "# component_numbers = list(range(2,20,2))\n",
    "# variances = []\n",
    "# for n in component_numbers:\n",
    "#     pca = PCA(n_components = n)\n",
    "#     cam_pca_df = pca.fit_transform(pixel_data)\n",
    "#     variances.append(pca.explained_variance())\n",
    "#     print(\"COMPONENTS:\", n, \" VARIANCE:\", pca.explained_variance())\n",
    "# plt.plot(component_numbers,variances )\n",
    "\n",
    "# TODO: run PCA, get DataFrame\n",
    "pca = PCA(n_components = 10)\n",
    "cam_pca_df = pca.fit_transform(pixel_data)\n",
    "\n",
    "# TODO: add \"label\" column\n",
    "cam_pca_df['label']=label_data\n",
    "\n",
    "# TODO: print variance\n",
    "print(pca.explained_variance())\n",
    "# print(pca.components)\n",
    "\n",
    "# TODO: take a look at the first 5 row\n",
    "# print(cam_pca_df[:5])\n"
   ]
  },
  {
   "cell_type": "markdown",
   "metadata": {},
   "source": [
    "### Interpretation\n",
    "\n",
    "<span style=\"color:hotpink\">\n",
    "How many components did you keep ?<br>\n",
    "Did you try different numbers ?<br>\n",
    "What percent of variance is kept by this transformation?\n",
    "</span>"
   ]
  },
  {
   "cell_type": "markdown",
   "metadata": {
    "tags": [
     "work_cell"
    ]
   },
   "source": [
    "<span style=\"color:green;\">With 10 components i got a variance of .78. With 5, I got a variance of .64 which means that less of the origional is explained by the reduced data. I then decided to try a range of components and plot them to see if at a certain point it starts to improve less. What I noticed is the variance starts to taper off as the number of components increases, so I think using n_components =8 is a solid choice. It corresponds to a .74 variance</span>"
   ]
  },
  {
   "cell_type": "markdown",
   "metadata": {},
   "source": [
    "### Reconstruct\n",
    "\n",
    "Before we go run our classification, let's take a look at some reconstructed images, just to make sure they make sense.\n",
    "\n",
    "Take a look at reconstructed versions of images $0$, $10$, and whichever other images you might have opened above.\n",
    "\n",
    "We did this in class. It involves a `inverse_transform()` function."
   ]
  },
  {
   "cell_type": "code",
   "execution_count": null,
   "metadata": {
    "tags": [
     "work_cell"
    ]
   },
   "outputs": [],
   "source": [
    "# TODO: reconstruct image at index 0\n",
    "pixel_data2 = pca.inverse_transform(cam_pca_df)\n",
    "print(pixel_data2.__class__)\n",
    "print(pixel_data2.shape)\n",
    "# TODO: reconstruct image at index 10\n",
    "display(make_image(pixel_data2.iloc[0], width=256))\n",
    "display(make_image(pixel_data2.iloc[10], width=256))"
   ]
  },
  {
   "cell_type": "markdown",
   "metadata": {},
   "source": [
    "The reconstructed images should look blurrier and noisier than the original ones, but they should still look something like the original ones.\n",
    "\n",
    "### Classify !\n",
    "\n",
    "Train a `RandomForestClassifier` on the `PCA` data.\n",
    "\n",
    "Remember to separate the output feature (`label`) from the input features (`PC0`, `PC1`, etc)."
   ]
  },
  {
   "cell_type": "code",
   "execution_count": 48,
   "metadata": {
    "tags": [
     "work_cell"
    ]
   },
   "outputs": [],
   "source": [
    "# TODO: create a classifier\n",
    "rf = RandomForestClassifier()\n",
    "\n",
    "# TODO: split input and output features\n",
    "input_features = [c for c in cam_pca_df.columns if c!= 'label']\n",
    "output_feature = 'label'\n",
    "\n",
    "# TODO: fit the model\n",
    "rf.fit(cam_pca_df[input_features],cam_pca_df[output_feature] )\n",
    "\n",
    "# TODO: run predictions\n",
    "predicted_train = rf.predict(cam_pca_df[input_features])"
   ]
  },
  {
   "cell_type": "markdown",
   "metadata": {},
   "source": [
    "### Measure Error\n",
    "\n",
    "For the train set we could use the generic `classification_error()` function that we've used before because we have the true labels for each file, but for measuring accuracy for our `test` set classification, which has secret labels, we have to use a more specific function from the `CamUtils` class.\n",
    "\n",
    "The function is called `classification_accuracy()` and it takes $2$ parameters, a list of filenames and the predicted labels associated with those filenames.\n",
    "\n",
    "The result is an accuracy score ratio, between $0.0$ and $1.0$.\n",
    "\n",
    "We can run this function on the `train` set as well:"
   ]
  },
  {
   "cell_type": "code",
   "execution_count": 49,
   "metadata": {},
   "outputs": [
    {
     "data": {
      "text/plain": [
       "1.0"
      ]
     },
     "execution_count": 49,
     "metadata": {},
     "output_type": "execute_result"
    }
   ],
   "source": [
    "# train_files is the list of files we got way up above\n",
    "CamUtils.classification_accuracy(train_files, predicted_train)"
   ]
  },
  {
   "cell_type": "markdown",
   "metadata": {},
   "source": [
    "### Interpretation\n",
    "\n",
    "<span style=\"color:hotpink\">\n",
    "What does this mean?<br>\n",
    "Should we expect the same result from the test dataset?<br>\n",
    "Why, or why not?\n",
    "</span>"
   ]
  },
  {
   "cell_type": "markdown",
   "metadata": {
    "tags": [
     "work_cell"
    ]
   },
   "source": [
    "<span style=\"color:hotpink;\">EDIT THIS CELL WITH ANSWER</span>"
   ]
  },
  {
   "cell_type": "markdown",
   "metadata": {},
   "source": [
    "### Run on Test set\n",
    "\n",
    "Now we'll open the image files inside the `./data/image/0801-500/test/` directory, using almost the exact same steps as we did above to create a `DataFrame` with the exception that we don't have labels for these images."
   ]
  },
  {
   "cell_type": "code",
   "execution_count": 51,
   "metadata": {
    "tags": [
     "work_cell"
    ]
   },
   "outputs": [
    {
     "name": "stdout",
     "output_type": "stream",
     "text": [
      "1573\n",
      "['15930604.jpg', '15087941.jpg', '11041879.jpg']\n"
     ]
    }
   ],
   "source": [
    "# TODO: create a list of files in the test/ directory\n",
    "test_files = [f for f in listdir('./data/image/0801-500/test') if f.endswith('.jpg')]\n",
    "\n",
    "# TODO: check its length and content\n",
    "print(len(test_files))\n",
    "print(test_files[:3])"
   ]
  },
  {
   "cell_type": "markdown",
   "metadata": {},
   "source": [
    "We'll use a similar loop to extract the pixel information from these images, except we don't have `label` data, just pixels."
   ]
  },
  {
   "cell_type": "code",
   "execution_count": 52,
   "metadata": {},
   "outputs": [],
   "source": [
    "test_pixel_data = []\n",
    "\n",
    "for fname in test_files:\n",
    "  img = PImage.open(path.join(\"./data/image/0801-500/test\", fname))\n",
    "  test_pixel_data.append(get_pixels(img))"
   ]
  },
  {
   "cell_type": "markdown",
   "metadata": {},
   "source": [
    "Now we can run `PCA` and the `RandomForestClassifier`.\n",
    "\n",
    "Since those are already trained, all we have to do is run their `transform()` function on the data."
   ]
  },
  {
   "cell_type": "code",
   "execution_count": 56,
   "metadata": {
    "tags": [
     "work_cell"
    ]
   },
   "outputs": [],
   "source": [
    "# TODO: run PCA on test pixels, get DataFrame\n",
    "#       this is the same PCA that was created above, not a new one\n",
    "test_dim_red_data = pca.transform(test_pixel_data)\n"
   ]
  },
  {
   "cell_type": "markdown",
   "metadata": {},
   "source": [
    "It's always a good idea to check the result of the `PCA` transformation by looking at the `DataFrame` and reconstructing some images."
   ]
  },
  {
   "cell_type": "code",
   "execution_count": 59,
   "metadata": {
    "tags": [
     "work_cell"
    ]
   },
   "outputs": [
    {
     "data": {
      "image/jpeg": "[encoded data removed]",
      "image/png": "[encoded data removed]",
      "text/plain": [
       "<PIL.Image.Image image mode=L size=256x256>"
      ]
     },
     "metadata": {},
     "output_type": "display_data"
    },
    {
     "data": {
      "image/jpeg": "[encoded data removed]",
      "image/png": "[encoded data removed]",
      "text/plain": [
       "<PIL.Image.Image image mode=L size=256x256>"
      ]
     },
     "metadata": {},
     "output_type": "display_data"
    },
    {
     "data": {
      "text/html": [
       "<div>\n",
       "<style scoped>\n",
       "    .dataframe tbody tr th:only-of-type {\n",
       "        vertical-align: middle;\n",
       "    }\n",
       "\n",
       "    .dataframe tbody tr th {\n",
       "        vertical-align: top;\n",
       "    }\n",
       "\n",
       "    .dataframe thead th {\n",
       "        text-align: right;\n",
       "    }\n",
       "</style>\n",
       "<table border=\"1\" class=\"dataframe\">\n",
       "  <thead>\n",
       "    <tr style=\"text-align: right;\">\n",
       "      <th></th>\n",
       "      <th>0</th>\n",
       "      <th>1</th>\n",
       "      <th>2</th>\n",
       "      <th>3</th>\n",
       "      <th>4</th>\n",
       "      <th>5</th>\n",
       "      <th>6</th>\n",
       "      <th>7</th>\n",
       "      <th>8</th>\n",
       "      <th>9</th>\n",
       "      <th>...</th>\n",
       "      <th>65526</th>\n",
       "      <th>65527</th>\n",
       "      <th>65528</th>\n",
       "      <th>65529</th>\n",
       "      <th>65530</th>\n",
       "      <th>65531</th>\n",
       "      <th>65532</th>\n",
       "      <th>65533</th>\n",
       "      <th>65534</th>\n",
       "      <th>65535</th>\n",
       "    </tr>\n",
       "  </thead>\n",
       "  <tbody>\n",
       "    <tr>\n",
       "      <th>0</th>\n",
       "      <td>96.158039</td>\n",
       "      <td>99.560147</td>\n",
       "      <td>101.499205</td>\n",
       "      <td>98.425751</td>\n",
       "      <td>101.538230</td>\n",
       "      <td>108.399058</td>\n",
       "      <td>110.277631</td>\n",
       "      <td>108.434490</td>\n",
       "      <td>105.792546</td>\n",
       "      <td>106.120316</td>\n",
       "      <td>...</td>\n",
       "      <td>129.040912</td>\n",
       "      <td>127.736784</td>\n",
       "      <td>123.914287</td>\n",
       "      <td>125.173800</td>\n",
       "      <td>125.351944</td>\n",
       "      <td>124.353861</td>\n",
       "      <td>123.515237</td>\n",
       "      <td>122.322757</td>\n",
       "      <td>120.908423</td>\n",
       "      <td>121.124375</td>\n",
       "    </tr>\n",
       "    <tr>\n",
       "      <th>1</th>\n",
       "      <td>40.211750</td>\n",
       "      <td>34.531407</td>\n",
       "      <td>31.656542</td>\n",
       "      <td>29.556340</td>\n",
       "      <td>28.504229</td>\n",
       "      <td>25.943086</td>\n",
       "      <td>23.452876</td>\n",
       "      <td>26.142207</td>\n",
       "      <td>29.070178</td>\n",
       "      <td>34.245830</td>\n",
       "      <td>...</td>\n",
       "      <td>151.083595</td>\n",
       "      <td>151.339972</td>\n",
       "      <td>154.912829</td>\n",
       "      <td>157.183413</td>\n",
       "      <td>159.388022</td>\n",
       "      <td>160.683839</td>\n",
       "      <td>161.172587</td>\n",
       "      <td>161.378770</td>\n",
       "      <td>163.302776</td>\n",
       "      <td>159.351348</td>\n",
       "    </tr>\n",
       "    <tr>\n",
       "      <th>2</th>\n",
       "      <td>162.781300</td>\n",
       "      <td>164.607216</td>\n",
       "      <td>166.260055</td>\n",
       "      <td>165.909880</td>\n",
       "      <td>170.175678</td>\n",
       "      <td>170.934718</td>\n",
       "      <td>168.088349</td>\n",
       "      <td>168.816769</td>\n",
       "      <td>164.701479</td>\n",
       "      <td>161.517839</td>\n",
       "      <td>...</td>\n",
       "      <td>172.601765</td>\n",
       "      <td>174.286084</td>\n",
       "      <td>170.799092</td>\n",
       "      <td>173.266275</td>\n",
       "      <td>175.324534</td>\n",
       "      <td>176.078051</td>\n",
       "      <td>176.143514</td>\n",
       "      <td>174.823702</td>\n",
       "      <td>171.675129</td>\n",
       "      <td>170.378520</td>\n",
       "    </tr>\n",
       "    <tr>\n",
       "      <th>3</th>\n",
       "      <td>60.088704</td>\n",
       "      <td>60.997829</td>\n",
       "      <td>56.218156</td>\n",
       "      <td>60.437396</td>\n",
       "      <td>67.650735</td>\n",
       "      <td>68.681396</td>\n",
       "      <td>68.518361</td>\n",
       "      <td>64.195009</td>\n",
       "      <td>64.701999</td>\n",
       "      <td>67.053024</td>\n",
       "      <td>...</td>\n",
       "      <td>174.129601</td>\n",
       "      <td>173.749772</td>\n",
       "      <td>171.617606</td>\n",
       "      <td>171.627297</td>\n",
       "      <td>172.167787</td>\n",
       "      <td>172.211938</td>\n",
       "      <td>171.741132</td>\n",
       "      <td>171.299289</td>\n",
       "      <td>171.411349</td>\n",
       "      <td>170.615451</td>\n",
       "    </tr>\n",
       "    <tr>\n",
       "      <th>4</th>\n",
       "      <td>102.086084</td>\n",
       "      <td>98.531189</td>\n",
       "      <td>95.405922</td>\n",
       "      <td>101.664359</td>\n",
       "      <td>102.784307</td>\n",
       "      <td>101.715494</td>\n",
       "      <td>104.181886</td>\n",
       "      <td>104.078340</td>\n",
       "      <td>107.865412</td>\n",
       "      <td>110.911016</td>\n",
       "      <td>...</td>\n",
       "      <td>154.648496</td>\n",
       "      <td>151.986389</td>\n",
       "      <td>150.582599</td>\n",
       "      <td>150.503337</td>\n",
       "      <td>149.281188</td>\n",
       "      <td>149.259757</td>\n",
       "      <td>148.200836</td>\n",
       "      <td>146.165867</td>\n",
       "      <td>147.789072</td>\n",
       "      <td>144.314582</td>\n",
       "    </tr>\n",
       "  </tbody>\n",
       "</table>\n",
       "<p>5 rows × 65536 columns</p>\n",
       "</div>"
      ],
      "text/plain": [
       "        0           1           2           3           4           5      \\\n",
       "0   96.158039   99.560147  101.499205   98.425751  101.538230  108.399058   \n",
       "1   40.211750   34.531407   31.656542   29.556340   28.504229   25.943086   \n",
       "2  162.781300  164.607216  166.260055  165.909880  170.175678  170.934718   \n",
       "3   60.088704   60.997829   56.218156   60.437396   67.650735   68.681396   \n",
       "4  102.086084   98.531189   95.405922  101.664359  102.784307  101.715494   \n",
       "\n",
       "        6           7           8           9      ...       65526  \\\n",
       "0  110.277631  108.434490  105.792546  106.120316  ...  129.040912   \n",
       "1   23.452876   26.142207   29.070178   34.245830  ...  151.083595   \n",
       "2  168.088349  168.816769  164.701479  161.517839  ...  172.601765   \n",
       "3   68.518361   64.195009   64.701999   67.053024  ...  174.129601   \n",
       "4  104.181886  104.078340  107.865412  110.911016  ...  154.648496   \n",
       "\n",
       "        65527       65528       65529       65530       65531       65532  \\\n",
       "0  127.736784  123.914287  125.173800  125.351944  124.353861  123.515237   \n",
       "1  151.339972  154.912829  157.183413  159.388022  160.683839  161.172587   \n",
       "2  174.286084  170.799092  173.266275  175.324534  176.078051  176.143514   \n",
       "3  173.749772  171.617606  171.627297  172.167787  172.211938  171.741132   \n",
       "4  151.986389  150.582599  150.503337  149.281188  149.259757  148.200836   \n",
       "\n",
       "        65533       65534       65535  \n",
       "0  122.322757  120.908423  121.124375  \n",
       "1  161.378770  163.302776  159.351348  \n",
       "2  174.823702  171.675129  170.378520  \n",
       "3  171.299289  171.411349  170.615451  \n",
       "4  146.165867  147.789072  144.314582  \n",
       "\n",
       "[5 rows x 65536 columns]"
      ]
     },
     "execution_count": 59,
     "metadata": {},
     "output_type": "execute_result"
    }
   ],
   "source": [
    "# TODO: reconstruct one or two images\n",
    "pixels_test2 = pca.inverse_transform(test_dim_red_data)\n",
    "display(make_image(pixels_test2.iloc[0], width = 256))\n",
    "display(make_image(pixels_test2.iloc[3], width = 256))\n",
    "# TODO: take a look at the first 5 rows\n",
    "pixels_test2[:5]"
   ]
  },
  {
   "cell_type": "markdown",
   "metadata": {},
   "source": [
    "### Interpretation\n",
    "\n",
    "<span style=\"color:hotpink\"><br>\n",
    "The reconstructed images from the `test` set will always be noisier than the `train` images.<br><br>\n",
    "Why?<br><br>\n",
    "</span>"
   ]
  },
  {
   "cell_type": "markdown",
   "metadata": {
    "tags": [
     "work_cell"
    ]
   },
   "source": [
    "<span style=\"color:green;\">Test data tends to work worse than train data since we didn't train/fit to that data. It's using the training data to fit this model, so it doesn't have any of those test images in data i,e its trying to fit our test data to other images so itll look more noisy\n",
    "</span>"
   ]
  },
  {
   "cell_type": "markdown",
   "metadata": {},
   "source": [
    "\n",
    "\n",
    "Run the classifier and get predicted labels. Then get its accuracy ratio is by running the `CamUtils.classification_accuracy()` function with the list of filenames and list of predictions."
   ]
  },
  {
   "cell_type": "code",
   "execution_count": 60,
   "metadata": {
    "tags": [
     "work_cell"
    ]
   },
   "outputs": [
    {
     "data": {
      "text/plain": [
       "0.926255562619199"
      ]
     },
     "execution_count": 60,
     "metadata": {},
     "output_type": "execute_result"
    }
   ],
   "source": [
    "# TODO: run classifier. This is the same classifier already fitted on the train data above\n",
    "test_prediciton = rf.predict(test_dim_red_data)\n",
    "# TODO: get accuracy\n",
    "CamUtils.classification_accuracy(test_files, test_prediciton)"
   ]
  },
  {
   "cell_type": "markdown",
   "metadata": {},
   "source": [
    "### Interpretation\n",
    "\n",
    "<span style=\"color:hotpink\">\n",
    "What's the accuracy ? How could we improve that if we wanted ?<br>\n",
    "How does this compare to the classification model from <code>Homework07</code>? They can both be tuned to perform well, but how many features did we need last time in order to get an accuracy comparable to this?\n",
    "</span>"
   ]
  },
  {
   "cell_type": "markdown",
   "metadata": {
    "tags": [
     "work_cell"
    ]
   },
   "source": [
    "<span style=\"color:green;\">The accuracy is .92 which is pretty good. The training accuracy was 1 which is better. We used 8 features, we could improve our test data by plaing with this value. Potentially training on less features might make the training accuracy lower but testing accuracy higher because of more generalizability.</span>"
   ]
  }
 ],
 "metadata": {
  "colab": {
   "authorship_tag": "ABX9TyPxe2qYxIG7EblrvD1C4Pmv",
   "provenance": []
  },
  "kernelspec": {
   "display_name": "Python 3",
   "language": "python",
   "name": "python3"
  },
  "language_info": {
   "codemirror_mode": {
    "name": "ipython",
    "version": 3
   },
   "file_extension": ".py",
   "mimetype": "text/x-python",
   "name": "python",
   "nbconvert_exporter": "python",
   "pygments_lexer": "ipython3",
   "version": "3.10.16"
  }
 },
 "nbformat": 4,
 "nbformat_minor": 0
}
